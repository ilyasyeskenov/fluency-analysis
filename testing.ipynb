{
 "cells": [
  {
   "cell_type": "code",
   "execution_count": 2,
   "metadata": {},
   "outputs": [],
   "source": [
    "from pydub import AudioSegment\n",
    "import numpy as np\n",
    "from scipy.io import wavfile\n",
    "import sys\n",
    "import pandas as pd\n",
    "import os \n",
    "from myprosody1 import myprosody\n",
    "import time\n",
    "import pickle\n",
    "from tqdm import tqdm\n",
    "import shutil"
   ]
  },
  {
   "cell_type": "code",
   "execution_count": null,
   "metadata": {},
   "outputs": [
    {
     "name": "stdout",
     "output_type": "stream",
     "text": [
      "{'articulation_rate': 5.0, 'balance': 0.7, 'number_of_pauses': 7.0, 'number_of_syllables': 81.0, 'original_duration': 23.6, 'rate_of_speech': 3.0, 'speaking_duration': 17.6}\n"
     ]
    }
   ],
   "source": [
    "import requests\n",
    "\n",
    "audio_file = \"/Users/User/Desktop/Audio_analysis/myprosody1/myprosody/dataset/audioFiles/est.mp3\"\n",
    "\n",
    "url = 'http://127.0.0.1:5000/api/analyze'\n",
    "files = {'file': open(audio_file, 'rb')}\n",
    "response = requests.post(url, files=files)\n",
    "\n",
    "print(response.json())"
   ]
  },
  {
   "cell_type": "code",
   "execution_count": null,
   "metadata": {},
   "outputs": [],
   "source": []
  },
  {
   "cell_type": "code",
   "execution_count": null,
   "metadata": {},
   "outputs": [],
   "source": [
    "class Fluency:\n",
    "    def __init__(self, filename, audio_path):\n",
    "        self.audio_path = audio_path\n",
    "        self.filename = filename\n",
    "\n",
    "    def read_audio(self):\n",
    "        \"\"\"Read and prepare the audio file for analysis.\"\"\"\n",
    "        output_path = os.path.abspath(\"./myprosody1/myprosody/dataset/audioFiles/\")\n",
    "\n",
    "        # Check if the input file is a WAV file\n",
    "        if not self.filename.lower().endswith('.wav'):\n",
    "\n",
    "            out_audio = os.path.join(output_path, self.filename[:-3] + \"wav\")\n",
    "            audio = AudioSegment.from_file(self.audio_path)\n",
    "            audio.export(out_audio, format=\"wav\")\n",
    "            \n",
    "        else:\n",
    "            # If it's already a WAV file, copy it to the output location\n",
    "            out_audio = os.path.join(output_path, self.filename)\n",
    "            shutil.copy(self.audio_path, out_audio)\n",
    "            print(f\"Copied '{self.audio_path}' to '{out_audio}'.\")\n",
    "\n",
    "        # Read the WAV file\n",
    "        sample_rate, audio_data = wavfile.read(out_audio)\n",
    "\n",
    "        # Check sample rate and bit depth\n",
    "        audio = AudioSegment.from_wav(out_audio)\n",
    "\n",
    "        if sample_rate != 48000:\n",
    "            print(f\"Warning: Sample rate is {sample_rate} Hz, expected 48,000 Hz. Adjusting...\")\n",
    "            audio = audio.set_frame_rate(48000)  # Set sample rate to 48 kHz\n",
    "            audio.export(out_audio, format=\"wav\", codec=\"pcm_s24le\")\n",
    "\n",
    "        bit_depth = audio.sample_width * 8  # Convert sample width to bit depth\n",
    "        if bit_depth < 24 or bit_depth > 32:\n",
    "            print(f\"Warning: Bit depth is {bit_depth} bits, expected between 24 and 32 bits. Adjusting...\")\n",
    "            audio = audio.set_sample_width(3)  # Set to 24 bits (3 bytes)\n",
    "            audio.export(out_audio, format=\"wav\", codec=\"pcm_s24le\")\n",
    "\n",
    "        print(\"Audio file is ready to be analyzed.\")\n",
    "    \n",
    "    def get_result(self):\n",
    "\n",
    "        self.read_audio()\n",
    "        abs_path = os.path.abspath(\"./myprosody1/myprosody\")\n",
    "        result = myprosody.mysptotal1(self.filename[:-3] + \"wav\", abs_path)\n",
    "        result = {key: float(value) if isinstance(value, str) and value.replace('.', '', 1).isdigit() else value for key, value in result.items()}\n",
    "    \n",
    "        return result"
   ]
  },
  {
   "cell_type": "code",
   "execution_count": 6,
   "metadata": {},
   "outputs": [],
   "source": [
    "test_path = 'C:/Users/User/Downloads/est.mp3'\n",
    "test_file = \"est.mp3\""
   ]
  },
  {
   "cell_type": "code",
   "execution_count": 7,
   "metadata": {},
   "outputs": [
    {
     "name": "stdout",
     "output_type": "stream",
     "text": [
      "Warning: Bit depth is 16 bits, expected between 24 and 32 bits. Adjusting...\n",
      "Audio file is ready to be analyzed.\n"
     ]
    },
    {
     "data": {
      "text/plain": [
       "{'number_of_syllables': 81.0,\n",
       " 'number_of_pauses': 7.0,\n",
       " 'rate_of_speech': 3.0,\n",
       " 'articulation_rate': 5.0,\n",
       " 'speaking_duration': 17.6,\n",
       " 'original_duration': 23.6,\n",
       " 'balance': 0.7}"
      ]
     },
     "execution_count": 7,
     "metadata": {},
     "output_type": "execute_result"
    }
   ],
   "source": [
    "fluency= Fluency(test_file, test_path)\n",
    "fluency.get_result()"
   ]
  },
  {
   "cell_type": "code",
   "execution_count": 82,
   "metadata": {},
   "outputs": [
    {
     "name": "stdout",
     "output_type": "stream",
     "text": [
      "Moved 'C:/Users/User/Documents/Audacity/L2/2023-4-L2-2.wav' to './myprosody1/myprosody/dataset/audioFiles/2023-4-L2-2.wav'.\n",
      "Audio file is ready to be analyzed.\n"
     ]
    },
    {
     "data": {
      "text/html": [
       "<div>\n",
       "<style scoped>\n",
       "    .dataframe tbody tr th:only-of-type {\n",
       "        vertical-align: middle;\n",
       "    }\n",
       "\n",
       "    .dataframe tbody tr th {\n",
       "        vertical-align: top;\n",
       "    }\n",
       "\n",
       "    .dataframe thead th {\n",
       "        text-align: right;\n",
       "    }\n",
       "</style>\n",
       "<table border=\"1\" class=\"dataframe\">\n",
       "  <thead>\n",
       "    <tr style=\"text-align: right;\">\n",
       "      <th></th>\n",
       "      <th>0</th>\n",
       "    </tr>\n",
       "  </thead>\n",
       "  <tbody>\n",
       "    <tr>\n",
       "      <th>number_of_syllables</th>\n",
       "      <td>116</td>\n",
       "    </tr>\n",
       "    <tr>\n",
       "      <th>number_of_pauses</th>\n",
       "      <td>7</td>\n",
       "    </tr>\n",
       "    <tr>\n",
       "      <th>rate_of_speech</th>\n",
       "      <td>5</td>\n",
       "    </tr>\n",
       "    <tr>\n",
       "      <th>articulation_rate</th>\n",
       "      <td>6</td>\n",
       "    </tr>\n",
       "    <tr>\n",
       "      <th>speaking_duration</th>\n",
       "      <td>19.3</td>\n",
       "    </tr>\n",
       "    <tr>\n",
       "      <th>original_duration</th>\n",
       "      <td>23.4</td>\n",
       "    </tr>\n",
       "    <tr>\n",
       "      <th>balance</th>\n",
       "      <td>0.8</td>\n",
       "    </tr>\n",
       "  </tbody>\n",
       "</table>\n",
       "</div>"
      ],
      "text/plain": [
       "                        0\n",
       "number_of_syllables   116\n",
       "number_of_pauses        7\n",
       "rate_of_speech          5\n",
       "articulation_rate       6\n",
       "speaking_duration    19.3\n",
       "original_duration    23.4\n",
       "balance               0.8"
      ]
     },
     "execution_count": 82,
     "metadata": {},
     "output_type": "execute_result"
    }
   ],
   "source": [
    "fluency= Fluency(\"C:/Users/User/Documents/Audacity/L2/2023-4-L2-2.wav\", \"2023-4-L2-2.wav\")\n",
    "fluency.get_result()"
   ]
  },
  {
   "cell_type": "markdown",
   "metadata": {},
   "source": [
    "### Scoring system "
   ]
  },
  {
   "cell_type": "code",
   "execution_count": 27,
   "metadata": {},
   "outputs": [],
   "source": [
    "folder = \"C:/Users/User/Desktop/Audio_analysis/myprosody1/myprosody\"\n",
    "\n",
    "sound=folder+\"/\"+\"dataset\"+\"/\"+\"audioFiles\"+\"/audios/\"\n",
    "files = os.listdir(sound)"
   ]
  },
  {
   "cell_type": "code",
   "execution_count": 28,
   "metadata": {},
   "outputs": [
    {
     "data": {
      "text/html": [
       "<div>\n",
       "<style scoped>\n",
       "    .dataframe tbody tr th:only-of-type {\n",
       "        vertical-align: middle;\n",
       "    }\n",
       "\n",
       "    .dataframe tbody tr th {\n",
       "        vertical-align: top;\n",
       "    }\n",
       "\n",
       "    .dataframe thead th {\n",
       "        text-align: right;\n",
       "    }\n",
       "</style>\n",
       "<table border=\"1\" class=\"dataframe\">\n",
       "  <thead>\n",
       "    <tr style=\"text-align: right;\">\n",
       "      <th></th>\n",
       "      <th>number_of_syllables</th>\n",
       "      <th>number_of_pauses</th>\n",
       "      <th>rate_of_speech</th>\n",
       "      <th>articulation_rate</th>\n",
       "      <th>speaking_duration</th>\n",
       "      <th>original_duration</th>\n",
       "      <th>balance</th>\n",
       "    </tr>\n",
       "  </thead>\n",
       "  <tbody>\n",
       "    <tr>\n",
       "      <th>0</th>\n",
       "      <td>70</td>\n",
       "      <td>5</td>\n",
       "      <td>3</td>\n",
       "      <td>4</td>\n",
       "      <td>17.3</td>\n",
       "      <td>20.6</td>\n",
       "      <td>0.8</td>\n",
       "    </tr>\n",
       "  </tbody>\n",
       "</table>\n",
       "</div>"
      ],
      "text/plain": [
       "  number_of_syllables number_of_pauses rate_of_speech articulation_rate  \\\n",
       "0                  70                5              3                 4   \n",
       "\n",
       "  speaking_duration original_duration balance  \n",
       "0              17.3              20.6     0.8  "
      ]
     },
     "execution_count": 28,
     "metadata": {},
     "output_type": "execute_result"
    }
   ],
   "source": [
    "test = '2019-1-L2-1.wav'\n",
    "myprosody.mysptotal1(test, folder)"
   ]
  },
  {
   "cell_type": "code",
   "execution_count": 47,
   "metadata": {},
   "outputs": [
    {
     "name": "stderr",
     "output_type": "stream",
     "text": [
      "100%|██████████| 173/173 [01:36<00:00,  1.79it/s]\n"
     ]
    }
   ],
   "source": [
    "dfs = []\n",
    "\n",
    "for file in tqdm(files):\n",
    "    start_time = time.time()  # Record the start time\n",
    "    try:\n",
    "        df = myprosody.mysptotal1(file, folder) \n",
    "    except IndexError:\n",
    "        print(file)\n",
    "        continue\n",
    "\n",
    "    end_time = time.time()  # Record the end time\n",
    "\n",
    "    df[\"file_name\"] = file\n",
    "    df[\"level\"] = file.split('-')[2]\n",
    "    df[\"time\"] = end_time - start_time  \n",
    "\n",
    "    dfs.append(df)\n",
    "\n",
    "final_df = pd.concat(dfs, ignore_index = True)"
   ]
  },
  {
   "cell_type": "code",
   "execution_count": 48,
   "metadata": {},
   "outputs": [],
   "source": [
    "column_order = [\"level\", \"file_name\", \"time\"] + [col for col in final_df.columns if col not in [\"level\", \"file_name\", \"time\"]]\n",
    "final_df = final_df[column_order]\n",
    "\n",
    "columns_to_convert = [\n",
    "    \"number_of_syllables\",\n",
    "    'number_of_pauses',\n",
    "    'rate_of_speech',\n",
    "    'articulation_rate',\n",
    "    'speaking_duration',\n",
    "    'original_duration',\n",
    "    'balance'\n",
    "]\n",
    "\n",
    "for column in columns_to_convert:\n",
    "    final_df[column] = pd.to_numeric(final_df[column], errors='coerce')"
   ]
  },
  {
   "cell_type": "code",
   "execution_count": 49,
   "metadata": {},
   "outputs": [
    {
     "name": "stdout",
     "output_type": "stream",
     "text": [
      "<class 'pandas.core.frame.DataFrame'>\n",
      "RangeIndex: 162 entries, 0 to 161\n",
      "Data columns (total 10 columns):\n",
      " #   Column               Non-Null Count  Dtype  \n",
      "---  ------               --------------  -----  \n",
      " 0   level                162 non-null    object \n",
      " 1   file_name            162 non-null    object \n",
      " 2   time                 162 non-null    float64\n",
      " 3   number_of_syllables  162 non-null    float64\n",
      " 4   number_of_pauses     162 non-null    float64\n",
      " 5   rate_of_speech       162 non-null    float64\n",
      " 6   articulation_rate    162 non-null    float64\n",
      " 7   speaking_duration    162 non-null    float64\n",
      " 8   original_duration    162 non-null    float64\n",
      " 9   balance              162 non-null    float64\n",
      "dtypes: float64(8), object(2)\n",
      "memory usage: 12.8+ KB\n"
     ]
    }
   ],
   "source": [
    "# Drop rows with NaN values\n",
    "final_df = final_df.dropna()\n",
    "\n",
    "# Reset the index\n",
    "final_df = final_df.reset_index(drop=True)\n",
    "\n",
    "final_df.info()"
   ]
  },
  {
   "cell_type": "code",
   "execution_count": null,
   "metadata": {},
   "outputs": [],
   "source": [
    "final_df['level'] = final_df['level'].str.replace('.wav', '')"
   ]
  },
  {
   "cell_type": "code",
   "execution_count": 76,
   "metadata": {},
   "outputs": [],
   "source": [
    "final_df.to_csv(\"results.csv\", index = False)"
   ]
  },
  {
   "cell_type": "markdown",
   "metadata": {},
   "source": [
    "## Testing"
   ]
  },
  {
   "cell_type": "code",
   "execution_count": 5,
   "metadata": {},
   "outputs": [
    {
     "data": {
      "text/html": [
       "<div>\n",
       "<style scoped>\n",
       "    .dataframe tbody tr th:only-of-type {\n",
       "        vertical-align: middle;\n",
       "    }\n",
       "\n",
       "    .dataframe tbody tr th {\n",
       "        vertical-align: top;\n",
       "    }\n",
       "\n",
       "    .dataframe thead th {\n",
       "        text-align: right;\n",
       "    }\n",
       "</style>\n",
       "<table border=\"1\" class=\"dataframe\">\n",
       "  <thead>\n",
       "    <tr style=\"text-align: right;\">\n",
       "      <th></th>\n",
       "      <th>level</th>\n",
       "      <th>file_name</th>\n",
       "      <th>time</th>\n",
       "      <th>number_of_syllables</th>\n",
       "      <th>number_of_pauses</th>\n",
       "      <th>rate_of_speech</th>\n",
       "      <th>articulation_rate</th>\n",
       "      <th>speaking_duration</th>\n",
       "      <th>original_duration</th>\n",
       "      <th>balance</th>\n",
       "    </tr>\n",
       "  </thead>\n",
       "  <tbody>\n",
       "    <tr>\n",
       "      <th>0</th>\n",
       "      <td>L2</td>\n",
       "      <td>2019-1-L2-.wav</td>\n",
       "      <td>0.730270</td>\n",
       "      <td>136.0</td>\n",
       "      <td>20.0</td>\n",
       "      <td>2.0</td>\n",
       "      <td>4.0</td>\n",
       "      <td>34.3</td>\n",
       "      <td>59.2</td>\n",
       "      <td>0.6</td>\n",
       "    </tr>\n",
       "    <tr>\n",
       "      <th>1</th>\n",
       "      <td>L2</td>\n",
       "      <td>2019-1-L2-1.wav</td>\n",
       "      <td>0.235524</td>\n",
       "      <td>70.0</td>\n",
       "      <td>5.0</td>\n",
       "      <td>3.0</td>\n",
       "      <td>4.0</td>\n",
       "      <td>17.3</td>\n",
       "      <td>20.6</td>\n",
       "      <td>0.8</td>\n",
       "    </tr>\n",
       "    <tr>\n",
       "      <th>2</th>\n",
       "      <td>L2</td>\n",
       "      <td>2019-1-L2-2.wav</td>\n",
       "      <td>0.130014</td>\n",
       "      <td>38.0</td>\n",
       "      <td>2.0</td>\n",
       "      <td>4.0</td>\n",
       "      <td>4.0</td>\n",
       "      <td>8.8</td>\n",
       "      <td>10.7</td>\n",
       "      <td>0.8</td>\n",
       "    </tr>\n",
       "    <tr>\n",
       "      <th>3</th>\n",
       "      <td>L2</td>\n",
       "      <td>2019-1-L2-3.wav</td>\n",
       "      <td>0.233511</td>\n",
       "      <td>84.0</td>\n",
       "      <td>4.0</td>\n",
       "      <td>4.0</td>\n",
       "      <td>4.0</td>\n",
       "      <td>19.0</td>\n",
       "      <td>20.8</td>\n",
       "      <td>0.9</td>\n",
       "    </tr>\n",
       "    <tr>\n",
       "      <th>4</th>\n",
       "      <td>L3</td>\n",
       "      <td>2019-1-L3-.wav</td>\n",
       "      <td>0.750307</td>\n",
       "      <td>175.0</td>\n",
       "      <td>29.0</td>\n",
       "      <td>3.0</td>\n",
       "      <td>5.0</td>\n",
       "      <td>37.6</td>\n",
       "      <td>59.5</td>\n",
       "      <td>0.6</td>\n",
       "    </tr>\n",
       "  </tbody>\n",
       "</table>\n",
       "</div>"
      ],
      "text/plain": [
       "  level        file_name      time  number_of_syllables  number_of_pauses  \\\n",
       "0    L2   2019-1-L2-.wav  0.730270                136.0              20.0   \n",
       "1    L2  2019-1-L2-1.wav  0.235524                 70.0               5.0   \n",
       "2    L2  2019-1-L2-2.wav  0.130014                 38.0               2.0   \n",
       "3    L2  2019-1-L2-3.wav  0.233511                 84.0               4.0   \n",
       "4    L3   2019-1-L3-.wav  0.750307                175.0              29.0   \n",
       "\n",
       "   rate_of_speech  articulation_rate  speaking_duration  original_duration  \\\n",
       "0             2.0                4.0               34.3               59.2   \n",
       "1             3.0                4.0               17.3               20.6   \n",
       "2             4.0                4.0                8.8               10.7   \n",
       "3             4.0                4.0               19.0               20.8   \n",
       "4             3.0                5.0               37.6               59.5   \n",
       "\n",
       "   balance  \n",
       "0      0.6  \n",
       "1      0.8  \n",
       "2      0.8  \n",
       "3      0.9  \n",
       "4      0.6  "
      ]
     },
     "execution_count": 5,
     "metadata": {},
     "output_type": "execute_result"
    }
   ],
   "source": [
    "final_df = pd.read_csv(\"results.csv\")\n",
    "final_df.head()"
   ]
  },
  {
   "cell_type": "code",
   "execution_count": null,
   "metadata": {},
   "outputs": [],
   "source": []
  },
  {
   "cell_type": "code",
   "execution_count": null,
   "metadata": {},
   "outputs": [],
   "source": []
  },
  {
   "cell_type": "code",
   "execution_count": 21,
   "metadata": {},
   "outputs": [
    {
     "data": {
      "text/html": [
       "<div>\n",
       "<style scoped>\n",
       "    .dataframe tbody tr th:only-of-type {\n",
       "        vertical-align: middle;\n",
       "    }\n",
       "\n",
       "    .dataframe tbody tr th {\n",
       "        vertical-align: top;\n",
       "    }\n",
       "\n",
       "    .dataframe thead th {\n",
       "        text-align: right;\n",
       "    }\n",
       "</style>\n",
       "<table border=\"1\" class=\"dataframe\">\n",
       "  <thead>\n",
       "    <tr style=\"text-align: right;\">\n",
       "      <th></th>\n",
       "      <th>number_of_pauses</th>\n",
       "      <th>articulation_rate</th>\n",
       "      <th>balance</th>\n",
       "    </tr>\n",
       "    <tr>\n",
       "      <th>level</th>\n",
       "      <th></th>\n",
       "      <th></th>\n",
       "      <th></th>\n",
       "    </tr>\n",
       "  </thead>\n",
       "  <tbody>\n",
       "    <tr>\n",
       "      <th>L1</th>\n",
       "      <td>13.142857</td>\n",
       "      <td>4.000000</td>\n",
       "      <td>0.764286</td>\n",
       "    </tr>\n",
       "    <tr>\n",
       "      <th>L2</th>\n",
       "      <td>9.250000</td>\n",
       "      <td>4.500000</td>\n",
       "      <td>0.842857</td>\n",
       "    </tr>\n",
       "    <tr>\n",
       "      <th>L3</th>\n",
       "      <td>10.739130</td>\n",
       "      <td>4.586957</td>\n",
       "      <td>0.854348</td>\n",
       "    </tr>\n",
       "    <tr>\n",
       "      <th>L4</th>\n",
       "      <td>9.918919</td>\n",
       "      <td>4.648649</td>\n",
       "      <td>0.900000</td>\n",
       "    </tr>\n",
       "    <tr>\n",
       "      <th>L5</th>\n",
       "      <td>6.486486</td>\n",
       "      <td>4.891892</td>\n",
       "      <td>0.932432</td>\n",
       "    </tr>\n",
       "  </tbody>\n",
       "</table>\n",
       "</div>"
      ],
      "text/plain": [
       "       number_of_pauses  articulation_rate   balance\n",
       "level                                               \n",
       "L1            13.142857           4.000000  0.764286\n",
       "L2             9.250000           4.500000  0.842857\n",
       "L3            10.739130           4.586957  0.854348\n",
       "L4             9.918919           4.648649  0.900000\n",
       "L5             6.486486           4.891892  0.932432"
      ]
     },
     "execution_count": 21,
     "metadata": {},
     "output_type": "execute_result"
    }
   ],
   "source": [
    "mean_stats = final_df.groupby('level')[[\"number_of_pauses\", \"articulation_rate\", 'balance']].mean()\n",
    "mean_stats"
   ]
  },
  {
   "cell_type": "code",
   "execution_count": 101,
   "metadata": {},
   "outputs": [],
   "source": [
    "from sklearn.preprocessing import MinMaxScaler\n",
    "\n",
    "# Create scalers\n",
    "min_max_scaler = MinMaxScaler()\n",
    "\n",
    "# Fit and transform data using MinMaxScaler\n",
    "scaled = min_max_scaler.fit_transform(final_df[[\"number_of_syllables\",'number_of_pauses', 'rate_of_speech', \n",
    "                                                             'articulation_rate', 'speaking_duration', \n",
    "                                                             'original_duration', 'balance']])\n",
    "\n",
    "df_scaled = pd.DataFrame(scaled, columns=[\"number_of_syllables\", 'number_of_pauses', 'rate_of_speech', \n",
    "                                                               'articulation_rate', 'speaking_duration', \n",
    "                                                               'original_duration','balance'])\n"
   ]
  },
  {
   "cell_type": "code",
   "execution_count": 105,
   "metadata": {},
   "outputs": [],
   "source": [
    "df_scaled['level'] = final_df[\"level\"]\n",
    "df_scaled['file_name'] = final_df[\"file_name\"]\n",
    "df_scaled['score'] = 2*df_scaled['articulation_rate'] + 2 * df_scaled['rate_of_speech'] + 2 * df_scaled[\"balance\"] - df_scaled[\"number_of_pauses\"]"
   ]
  },
  {
   "cell_type": "code",
   "execution_count": 106,
   "metadata": {},
   "outputs": [
    {
     "data": {
      "text/html": [
       "<div>\n",
       "<style scoped>\n",
       "    .dataframe tbody tr th:only-of-type {\n",
       "        vertical-align: middle;\n",
       "    }\n",
       "\n",
       "    .dataframe tbody tr th {\n",
       "        vertical-align: top;\n",
       "    }\n",
       "\n",
       "    .dataframe thead th {\n",
       "        text-align: right;\n",
       "    }\n",
       "</style>\n",
       "<table border=\"1\" class=\"dataframe\">\n",
       "  <thead>\n",
       "    <tr style=\"text-align: right;\">\n",
       "      <th></th>\n",
       "      <th>number_of_syllables</th>\n",
       "      <th>number_of_pauses</th>\n",
       "      <th>rate_of_speech</th>\n",
       "      <th>articulation_rate</th>\n",
       "      <th>speaking_duration</th>\n",
       "      <th>original_duration</th>\n",
       "      <th>balance</th>\n",
       "      <th>score</th>\n",
       "    </tr>\n",
       "  </thead>\n",
       "  <tbody>\n",
       "    <tr>\n",
       "      <th>count</th>\n",
       "      <td>162.000000</td>\n",
       "      <td>162.000000</td>\n",
       "      <td>162.000000</td>\n",
       "      <td>162.000000</td>\n",
       "      <td>162.000000</td>\n",
       "      <td>162.000000</td>\n",
       "      <td>162.000000</td>\n",
       "      <td>162.000000</td>\n",
       "    </tr>\n",
       "    <tr>\n",
       "      <th>mean</th>\n",
       "      <td>0.312428</td>\n",
       "      <td>0.328650</td>\n",
       "      <td>0.689300</td>\n",
       "      <td>0.534979</td>\n",
       "      <td>0.335862</td>\n",
       "      <td>0.375388</td>\n",
       "      <td>0.745679</td>\n",
       "      <td>3.611267</td>\n",
       "    </tr>\n",
       "    <tr>\n",
       "      <th>std</th>\n",
       "      <td>0.150738</td>\n",
       "      <td>0.217450</td>\n",
       "      <td>0.235341</td>\n",
       "      <td>0.183359</td>\n",
       "      <td>0.155994</td>\n",
       "      <td>0.168294</td>\n",
       "      <td>0.191788</td>\n",
       "      <td>1.109202</td>\n",
       "    </tr>\n",
       "    <tr>\n",
       "      <th>min</th>\n",
       "      <td>0.000000</td>\n",
       "      <td>0.000000</td>\n",
       "      <td>0.000000</td>\n",
       "      <td>0.000000</td>\n",
       "      <td>0.000000</td>\n",
       "      <td>0.000000</td>\n",
       "      <td>0.000000</td>\n",
       "      <td>-0.195402</td>\n",
       "    </tr>\n",
       "    <tr>\n",
       "      <th>25%</th>\n",
       "      <td>0.211663</td>\n",
       "      <td>0.172414</td>\n",
       "      <td>0.666667</td>\n",
       "      <td>0.333333</td>\n",
       "      <td>0.226322</td>\n",
       "      <td>0.251915</td>\n",
       "      <td>0.600000</td>\n",
       "      <td>3.117241</td>\n",
       "    </tr>\n",
       "    <tr>\n",
       "      <th>50%</th>\n",
       "      <td>0.302376</td>\n",
       "      <td>0.275862</td>\n",
       "      <td>0.666667</td>\n",
       "      <td>0.666667</td>\n",
       "      <td>0.334251</td>\n",
       "      <td>0.381291</td>\n",
       "      <td>0.800000</td>\n",
       "      <td>3.714943</td>\n",
       "    </tr>\n",
       "    <tr>\n",
       "      <th>75%</th>\n",
       "      <td>0.420626</td>\n",
       "      <td>0.482759</td>\n",
       "      <td>1.000000</td>\n",
       "      <td>0.666667</td>\n",
       "      <td>0.454846</td>\n",
       "      <td>0.528446</td>\n",
       "      <td>0.800000</td>\n",
       "      <td>4.582184</td>\n",
       "    </tr>\n",
       "    <tr>\n",
       "      <th>max</th>\n",
       "      <td>1.000000</td>\n",
       "      <td>1.000000</td>\n",
       "      <td>1.000000</td>\n",
       "      <td>1.000000</td>\n",
       "      <td>1.000000</td>\n",
       "      <td>1.000000</td>\n",
       "      <td>1.000000</td>\n",
       "      <td>5.333333</td>\n",
       "    </tr>\n",
       "  </tbody>\n",
       "</table>\n",
       "</div>"
      ],
      "text/plain": [
       "       number_of_syllables  number_of_pauses  rate_of_speech  \\\n",
       "count           162.000000        162.000000      162.000000   \n",
       "mean              0.312428          0.328650        0.689300   \n",
       "std               0.150738          0.217450        0.235341   \n",
       "min               0.000000          0.000000        0.000000   \n",
       "25%               0.211663          0.172414        0.666667   \n",
       "50%               0.302376          0.275862        0.666667   \n",
       "75%               0.420626          0.482759        1.000000   \n",
       "max               1.000000          1.000000        1.000000   \n",
       "\n",
       "       articulation_rate  speaking_duration  original_duration     balance  \\\n",
       "count         162.000000         162.000000         162.000000  162.000000   \n",
       "mean            0.534979           0.335862           0.375388    0.745679   \n",
       "std             0.183359           0.155994           0.168294    0.191788   \n",
       "min             0.000000           0.000000           0.000000    0.000000   \n",
       "25%             0.333333           0.226322           0.251915    0.600000   \n",
       "50%             0.666667           0.334251           0.381291    0.800000   \n",
       "75%             0.666667           0.454846           0.528446    0.800000   \n",
       "max             1.000000           1.000000           1.000000    1.000000   \n",
       "\n",
       "            score  \n",
       "count  162.000000  \n",
       "mean     3.611267  \n",
       "std      1.109202  \n",
       "min     -0.195402  \n",
       "25%      3.117241  \n",
       "50%      3.714943  \n",
       "75%      4.582184  \n",
       "max      5.333333  "
      ]
     },
     "execution_count": 106,
     "metadata": {},
     "output_type": "execute_result"
    }
   ],
   "source": [
    "df_scaled.describe()"
   ]
  },
  {
   "cell_type": "code",
   "execution_count": null,
   "metadata": {},
   "outputs": [],
   "source": []
  },
  {
   "cell_type": "code",
   "execution_count": null,
   "metadata": {},
   "outputs": [
    {
     "name": "stdout",
     "output_type": "stream",
     "text": [
      "Dictionary saved as minmax.json\n"
     ]
    }
   ],
   "source": [
    "minmaxval = {\n",
    "    \"min\": {'number_of_pauses': final_df[\"number_of_pauses\"].min(), \n",
    "            'rate_of_speech': final_df[\"rate_of_speech\"].min(), \n",
    "            'articulation_rate': final_df[\"articulation_rate\"].min(),\n",
    "            'balance': final_df[\"balance\"].min()\n",
    "    },\n",
    "\n",
    "    \"max\": { \n",
    "            'number_of_pauses': final_df[\"number_of_pauses\"].max(), \n",
    "            'rate_of_speech': final_df[\"rate_of_speech\"].max(), \n",
    "            'articulation_rate': final_df[\"articulation_rate\"].max(),\n",
    "            'balance': final_df[\"balance\"].max()\n",
    "            }\n",
    "}\n",
    "\n",
    "# Specify the filename\n",
    "filename = 'minmax.json'\n",
    "\n",
    "# Save the dictionary as a JSON file\n",
    "with open(filename, 'w') as json_file:\n",
    "    json.dump(minmaxval, json_file, indent=4)\n",
    "\n",
    "print(f'Dictionary saved as {filename}')"
   ]
  },
  {
   "cell_type": "code",
   "execution_count": 98,
   "metadata": {},
   "outputs": [],
   "source": [
    "y = {\n",
    "  \"number_of_syllables\": 136,\n",
    "  \"number_of_pauses\": 20,\n",
    "  \"rate_of_speech\": 2,\n",
    "  \"articulation_rate\": 4,\n",
    "  \"speaking_duration\": 34.3,\n",
    "  \"original_duration\": 59.2,\n",
    "  \"balance\": 0.6\n",
    "}\n"
   ]
  },
  {
   "cell_type": "code",
   "execution_count": null,
   "metadata": {},
   "outputs": [],
   "source": [
    "import numpy as np\n",
    "\n",
    "def min_max_scale(value, min_value, max_value):\n",
    "    scaled_value = (value - min_value) / (max_value - min_value)\n",
    "    return scaled_value\n",
    "\n",
    "\n",
    "def scaling(dict1):\n",
    "    scaled_dict = {}\n",
    "    for key in minmaxval[\"min\"]:\n",
    "        scaled_dict[key] = min_max_scale(dict1[key], minmaxval['min'][key], minmaxval['max'][key])\n",
    "\n",
    "\n",
    "    score = scaled_dict['articulation_rate'] + scaled_dict['rate_of_speech'] + scaled_dict[\"balance\"] - scaled_dict[\"number_of_pauses\"]\n",
    "\n",
    "    return scaled_dict, score"
   ]
  },
  {
   "cell_type": "code",
   "execution_count": 59,
   "metadata": {},
   "outputs": [],
   "source": [
    "df_scaled = df_scaled[df_scaled[\"score\"] > 0]"
   ]
  },
  {
   "cell_type": "code",
   "execution_count": 60,
   "metadata": {},
   "outputs": [
    {
     "data": {
      "text/html": [
       "<div>\n",
       "<style scoped>\n",
       "    .dataframe tbody tr th:only-of-type {\n",
       "        vertical-align: middle;\n",
       "    }\n",
       "\n",
       "    .dataframe tbody tr th {\n",
       "        vertical-align: top;\n",
       "    }\n",
       "\n",
       "    .dataframe thead th {\n",
       "        text-align: right;\n",
       "    }\n",
       "</style>\n",
       "<table border=\"1\" class=\"dataframe\">\n",
       "  <thead>\n",
       "    <tr style=\"text-align: right;\">\n",
       "      <th></th>\n",
       "      <th>number_of_syllables</th>\n",
       "      <th>number_of_pauses</th>\n",
       "      <th>rate_of_speech</th>\n",
       "      <th>articulation_rate</th>\n",
       "      <th>speaking_duration</th>\n",
       "      <th>original_duration</th>\n",
       "      <th>balance</th>\n",
       "      <th>score</th>\n",
       "    </tr>\n",
       "  </thead>\n",
       "  <tbody>\n",
       "    <tr>\n",
       "      <th>count</th>\n",
       "      <td>160.000000</td>\n",
       "      <td>160.000000</td>\n",
       "      <td>160.000000</td>\n",
       "      <td>160.000000</td>\n",
       "      <td>160.000000</td>\n",
       "      <td>160.000000</td>\n",
       "      <td>160.000000</td>\n",
       "      <td>160.000000</td>\n",
       "    </tr>\n",
       "    <tr>\n",
       "      <th>mean</th>\n",
       "      <td>0.313566</td>\n",
       "      <td>0.323060</td>\n",
       "      <td>0.697917</td>\n",
       "      <td>0.537500</td>\n",
       "      <td>0.336619</td>\n",
       "      <td>0.373297</td>\n",
       "      <td>0.753750</td>\n",
       "      <td>1.666106</td>\n",
       "    </tr>\n",
       "    <tr>\n",
       "      <th>std</th>\n",
       "      <td>0.151331</td>\n",
       "      <td>0.212693</td>\n",
       "      <td>0.223675</td>\n",
       "      <td>0.183100</td>\n",
       "      <td>0.156822</td>\n",
       "      <td>0.168289</td>\n",
       "      <td>0.178353</td>\n",
       "      <td>0.591813</td>\n",
       "    </tr>\n",
       "    <tr>\n",
       "      <th>min</th>\n",
       "      <td>0.000000</td>\n",
       "      <td>0.000000</td>\n",
       "      <td>0.333333</td>\n",
       "      <td>0.000000</td>\n",
       "      <td>0.000000</td>\n",
       "      <td>0.000000</td>\n",
       "      <td>0.200000</td>\n",
       "      <td>0.170115</td>\n",
       "    </tr>\n",
       "    <tr>\n",
       "      <th>25%</th>\n",
       "      <td>0.211123</td>\n",
       "      <td>0.172414</td>\n",
       "      <td>0.666667</td>\n",
       "      <td>0.333333</td>\n",
       "      <td>0.225220</td>\n",
       "      <td>0.250000</td>\n",
       "      <td>0.600000</td>\n",
       "      <td>1.317241</td>\n",
       "    </tr>\n",
       "    <tr>\n",
       "      <th>50%</th>\n",
       "      <td>0.305616</td>\n",
       "      <td>0.275862</td>\n",
       "      <td>0.666667</td>\n",
       "      <td>0.666667</td>\n",
       "      <td>0.338656</td>\n",
       "      <td>0.364880</td>\n",
       "      <td>0.800000</td>\n",
       "      <td>1.673563</td>\n",
       "    </tr>\n",
       "    <tr>\n",
       "      <th>75%</th>\n",
       "      <td>0.422786</td>\n",
       "      <td>0.456897</td>\n",
       "      <td>1.000000</td>\n",
       "      <td>0.666667</td>\n",
       "      <td>0.455121</td>\n",
       "      <td>0.528446</td>\n",
       "      <td>0.800000</td>\n",
       "      <td>2.130460</td>\n",
       "    </tr>\n",
       "    <tr>\n",
       "      <th>max</th>\n",
       "      <td>1.000000</td>\n",
       "      <td>1.000000</td>\n",
       "      <td>1.000000</td>\n",
       "      <td>1.000000</td>\n",
       "      <td>1.000000</td>\n",
       "      <td>1.000000</td>\n",
       "      <td>1.000000</td>\n",
       "      <td>2.666667</td>\n",
       "    </tr>\n",
       "  </tbody>\n",
       "</table>\n",
       "</div>"
      ],
      "text/plain": [
       "       number_of_syllables  number_of_pauses  rate_of_speech  \\\n",
       "count           160.000000        160.000000      160.000000   \n",
       "mean              0.313566          0.323060        0.697917   \n",
       "std               0.151331          0.212693        0.223675   \n",
       "min               0.000000          0.000000        0.333333   \n",
       "25%               0.211123          0.172414        0.666667   \n",
       "50%               0.305616          0.275862        0.666667   \n",
       "75%               0.422786          0.456897        1.000000   \n",
       "max               1.000000          1.000000        1.000000   \n",
       "\n",
       "       articulation_rate  speaking_duration  original_duration     balance  \\\n",
       "count         160.000000         160.000000         160.000000  160.000000   \n",
       "mean            0.537500           0.336619           0.373297    0.753750   \n",
       "std             0.183100           0.156822           0.168289    0.178353   \n",
       "min             0.000000           0.000000           0.000000    0.200000   \n",
       "25%             0.333333           0.225220           0.250000    0.600000   \n",
       "50%             0.666667           0.338656           0.364880    0.800000   \n",
       "75%             0.666667           0.455121           0.528446    0.800000   \n",
       "max             1.000000           1.000000           1.000000    1.000000   \n",
       "\n",
       "            score  \n",
       "count  160.000000  \n",
       "mean     1.666106  \n",
       "std      0.591813  \n",
       "min      0.170115  \n",
       "25%      1.317241  \n",
       "50%      1.673563  \n",
       "75%      2.130460  \n",
       "max      2.666667  "
      ]
     },
     "execution_count": 60,
     "metadata": {},
     "output_type": "execute_result"
    }
   ],
   "source": [
    "df_scaled.describe()"
   ]
  },
  {
   "cell_type": "code",
   "execution_count": 61,
   "metadata": {},
   "outputs": [],
   "source": [
    "df_scaled['score'] = df_scaled['articulation_rate'] + df_scaled['rate_of_speech'] + df_scaled[\"balance\"] - df_scaled[\"number_of_pauses\"]"
   ]
  },
  {
   "cell_type": "code",
   "execution_count": 62,
   "metadata": {},
   "outputs": [
    {
     "data": {
      "text/html": [
       "<div>\n",
       "<style scoped>\n",
       "    .dataframe tbody tr th:only-of-type {\n",
       "        vertical-align: middle;\n",
       "    }\n",
       "\n",
       "    .dataframe tbody tr th {\n",
       "        vertical-align: top;\n",
       "    }\n",
       "\n",
       "    .dataframe thead th {\n",
       "        text-align: right;\n",
       "    }\n",
       "</style>\n",
       "<table border=\"1\" class=\"dataframe\">\n",
       "  <thead>\n",
       "    <tr style=\"text-align: right;\">\n",
       "      <th></th>\n",
       "      <th>number_of_syllables</th>\n",
       "      <th>number_of_pauses</th>\n",
       "      <th>rate_of_speech</th>\n",
       "      <th>articulation_rate</th>\n",
       "      <th>balance</th>\n",
       "      <th>score</th>\n",
       "    </tr>\n",
       "    <tr>\n",
       "      <th>level</th>\n",
       "      <th></th>\n",
       "      <th></th>\n",
       "      <th></th>\n",
       "      <th></th>\n",
       "      <th></th>\n",
       "      <th></th>\n",
       "    </tr>\n",
       "  </thead>\n",
       "  <tbody>\n",
       "    <tr>\n",
       "      <th>L1</th>\n",
       "      <td>0.162319</td>\n",
       "      <td>0.421751</td>\n",
       "      <td>0.384615</td>\n",
       "      <td>0.333333</td>\n",
       "      <td>0.569231</td>\n",
       "      <td>0.865429</td>\n",
       "    </tr>\n",
       "    <tr>\n",
       "      <th>L2</th>\n",
       "      <td>0.226142</td>\n",
       "      <td>0.305236</td>\n",
       "      <td>0.592593</td>\n",
       "      <td>0.506173</td>\n",
       "      <td>0.703704</td>\n",
       "      <td>1.497233</td>\n",
       "    </tr>\n",
       "    <tr>\n",
       "      <th>L3</th>\n",
       "      <td>0.290919</td>\n",
       "      <td>0.370315</td>\n",
       "      <td>0.673913</td>\n",
       "      <td>0.528986</td>\n",
       "      <td>0.708696</td>\n",
       "      <td>1.541279</td>\n",
       "    </tr>\n",
       "    <tr>\n",
       "      <th>L4</th>\n",
       "      <td>0.372308</td>\n",
       "      <td>0.342032</td>\n",
       "      <td>0.729730</td>\n",
       "      <td>0.549550</td>\n",
       "      <td>0.800000</td>\n",
       "      <td>1.737248</td>\n",
       "    </tr>\n",
       "    <tr>\n",
       "      <th>L5</th>\n",
       "      <td>0.399918</td>\n",
       "      <td>0.223672</td>\n",
       "      <td>0.882883</td>\n",
       "      <td>0.630631</td>\n",
       "      <td>0.864865</td>\n",
       "      <td>2.154706</td>\n",
       "    </tr>\n",
       "  </tbody>\n",
       "</table>\n",
       "</div>"
      ],
      "text/plain": [
       "       number_of_syllables  number_of_pauses  rate_of_speech  \\\n",
       "level                                                          \n",
       "L1                0.162319          0.421751        0.384615   \n",
       "L2                0.226142          0.305236        0.592593   \n",
       "L3                0.290919          0.370315        0.673913   \n",
       "L4                0.372308          0.342032        0.729730   \n",
       "L5                0.399918          0.223672        0.882883   \n",
       "\n",
       "       articulation_rate   balance     score  \n",
       "level                                         \n",
       "L1              0.333333  0.569231  0.865429  \n",
       "L2              0.506173  0.703704  1.497233  \n",
       "L3              0.528986  0.708696  1.541279  \n",
       "L4              0.549550  0.800000  1.737248  \n",
       "L5              0.630631  0.864865  2.154706  "
      ]
     },
     "execution_count": 62,
     "metadata": {},
     "output_type": "execute_result"
    }
   ],
   "source": [
    "mean_stats = df_scaled.groupby('level')[[\"number_of_syllables\", \"number_of_pauses\", \"rate_of_speech\", \"articulation_rate\", 'balance', 'score']].mean()\n",
    "mean_stats"
   ]
  },
  {
   "cell_type": "code",
   "execution_count": null,
   "metadata": {},
   "outputs": [
    {
     "data": {
      "text/html": [
       "<div>\n",
       "<style scoped>\n",
       "    .dataframe tbody tr th:only-of-type {\n",
       "        vertical-align: middle;\n",
       "    }\n",
       "\n",
       "    .dataframe tbody tr th {\n",
       "        vertical-align: top;\n",
       "    }\n",
       "\n",
       "    .dataframe thead th {\n",
       "        text-align: right;\n",
       "    }\n",
       "</style>\n",
       "<table border=\"1\" class=\"dataframe\">\n",
       "  <thead>\n",
       "    <tr style=\"text-align: right;\">\n",
       "      <th></th>\n",
       "      <th>number_of_syllables</th>\n",
       "      <th>number_of_pauses</th>\n",
       "      <th>rate_of_speech</th>\n",
       "      <th>articulation_rate</th>\n",
       "      <th>balance</th>\n",
       "      <th>score</th>\n",
       "    </tr>\n",
       "    <tr>\n",
       "      <th>level</th>\n",
       "      <th></th>\n",
       "      <th></th>\n",
       "      <th></th>\n",
       "      <th></th>\n",
       "      <th></th>\n",
       "      <th></th>\n",
       "    </tr>\n",
       "  </thead>\n",
       "  <tbody>\n",
       "    <tr>\n",
       "      <th>L1</th>\n",
       "      <td>0.354212</td>\n",
       "      <td>0.896552</td>\n",
       "      <td>0.666667</td>\n",
       "      <td>0.666667</td>\n",
       "      <td>0.8</td>\n",
       "      <td>1.627586</td>\n",
       "    </tr>\n",
       "    <tr>\n",
       "      <th>L2</th>\n",
       "      <td>0.509719</td>\n",
       "      <td>0.758621</td>\n",
       "      <td>1.000000</td>\n",
       "      <td>1.000000</td>\n",
       "      <td>1.0</td>\n",
       "      <td>2.358621</td>\n",
       "    </tr>\n",
       "    <tr>\n",
       "      <th>L3</th>\n",
       "      <td>0.503240</td>\n",
       "      <td>1.000000</td>\n",
       "      <td>1.000000</td>\n",
       "      <td>1.000000</td>\n",
       "      <td>1.0</td>\n",
       "      <td>2.494253</td>\n",
       "    </tr>\n",
       "    <tr>\n",
       "      <th>L4</th>\n",
       "      <td>0.578834</td>\n",
       "      <td>0.896552</td>\n",
       "      <td>1.000000</td>\n",
       "      <td>0.666667</td>\n",
       "      <td>1.0</td>\n",
       "      <td>2.632184</td>\n",
       "    </tr>\n",
       "    <tr>\n",
       "      <th>L5</th>\n",
       "      <td>1.000000</td>\n",
       "      <td>0.482759</td>\n",
       "      <td>1.000000</td>\n",
       "      <td>0.666667</td>\n",
       "      <td>1.0</td>\n",
       "      <td>2.666667</td>\n",
       "    </tr>\n",
       "  </tbody>\n",
       "</table>\n",
       "</div>"
      ],
      "text/plain": [
       "       number_of_syllables  number_of_pauses  rate_of_speech  \\\n",
       "level                                                          \n",
       "L1                0.354212          0.896552        0.666667   \n",
       "L2                0.509719          0.758621        1.000000   \n",
       "L3                0.503240          1.000000        1.000000   \n",
       "L4                0.578834          0.896552        1.000000   \n",
       "L5                1.000000          0.482759        1.000000   \n",
       "\n",
       "       articulation_rate  balance     score  \n",
       "level                                        \n",
       "L1              0.666667      0.8  1.627586  \n",
       "L2              1.000000      1.0  2.358621  \n",
       "L3              1.000000      1.0  2.494253  \n",
       "L4              0.666667      1.0  2.632184  \n",
       "L5              0.666667      1.0  2.666667  "
      ]
     },
     "execution_count": 64,
     "metadata": {},
     "output_type": "execute_result"
    }
   ],
   "source": [
    "mean_stats = df_scaled.groupby('level')[[\"number_of_syllables\", \"number_of_pauses\", \"rate_of_speech\", \"articulation_rate\", 'balance', 'score']].mea()\n",
    "mean_stats"
   ]
  },
  {
   "cell_type": "code",
   "execution_count": null,
   "metadata": {},
   "outputs": [],
   "source": []
  },
  {
   "cell_type": "code",
   "execution_count": 20,
   "metadata": {},
   "outputs": [
    {
     "data": {
      "text/plain": [
       "19     0.960920\n",
       "20     1.029885\n",
       "21     0.926437\n",
       "22     0.312644\n",
       "60    -0.163218\n",
       "61     0.627586\n",
       "62     0.726437\n",
       "63     0.393103\n",
       "79     0.174713\n",
       "80     0.142529\n",
       "81     0.354023\n",
       "137   -0.528736\n",
       "138    0.342529\n",
       "139    0.422989\n",
       "Name: score, dtype: float64"
      ]
     },
     "execution_count": 20,
     "metadata": {},
     "output_type": "execute_result"
    }
   ],
   "source": [
    "df_scaled[df_scaled[\"level\"] == \"L1\"][\"score\"]"
   ]
  },
  {
   "cell_type": "code",
   "execution_count": null,
   "metadata": {},
   "outputs": [],
   "source": [
    "# <0.5 - L1\n",
    "# 0.5-1.2 - L2"
   ]
  },
  {
   "cell_type": "code",
   "execution_count": 32,
   "metadata": {},
   "outputs": [
    {
     "data": {
      "image/png": "[encoded data removed]",
      "text/plain": [
       "<Figure size 640x480 with 1 Axes>"
      ]
     },
     "metadata": {},
     "output_type": "display_data"
    },
    {
     "data": {
      "image/png": "[encoded data removed]",
      "text/plain": [
       "<Figure size 640x480 with 1 Axes>"
      ]
     },
     "metadata": {},
     "output_type": "display_data"
    },
    {
     "data": {
      "image/png": "[encoded data removed]",
      "text/plain": [
       "<Figure size 640x480 with 1 Axes>"
      ]
     },
     "metadata": {},
     "output_type": "display_data"
    },
    {
     "data": {
      "image/png": "[encoded data removed]",
      "text/plain": [
       "<Figure size 640x480 with 1 Axes>"
      ]
     },
     "metadata": {},
     "output_type": "display_data"
    },
    {
     "data": {
      "image/png": "[encoded data removed]",
      "text/plain": [
       "<Figure size 640x480 with 1 Axes>"
      ]
     },
     "metadata": {},
     "output_type": "display_data"
    }
   ],
   "source": [
    "for i in range(1,6):    \n",
    "    dist = df_scaled[df_scaled[\"level\"] == (\"L\" + str(i))][\"score\"]\n",
    "    plt.figure()\n",
    "    plt.hist(dist)"
   ]
  },
  {
   "cell_type": "code",
   "execution_count": null,
   "metadata": {},
   "outputs": [],
   "source": []
  },
  {
   "cell_type": "code",
   "execution_count": null,
   "metadata": {},
   "outputs": [
    {
     "name": "stderr",
     "output_type": "stream",
     "text": [
      "C:\\Users\\User\\AppData\\Local\\Temp\\ipykernel_1216\\3497191112.py:4: DeprecationWarning: DataFrameGroupBy.apply operated on the grouping columns. This behavior is deprecated, and in a future version of pandas the grouping columns will be excluded from the operation. Either pass `include_groups=False` to exclude the groupings or explicitly select the grouping columns after groupby to silence this warning.\n",
      "  weighted = final_df.groupby('level').apply(lambda x: pd.Series({\n"
     ]
    }
   ],
   "source": [
    "def weighted_average(df, value_col, weight_col):\n",
    "    return (df[value_col] * df[weight_col]).sum() / df[weight_col].sum()\n",
    "\n",
    "weighted = final_df.groupby('level').apply(lambda x: pd.Series({\n",
    "    'number_of_syllables': weighted_average(x, 'number_of_syllables', 'original_duration'),\n",
    "    'number_of_pauses': weighted_average(x, 'number_of_pauses', 'original_duration'),\n",
    "    'rate_of_speech': weighted_average(x, 'rate_of_speech', 'original_duration'),\n",
    "    'articulation_rate': weighted_average(x, 'articulation_rate', 'original_duration'),\n",
    "    'balance': weighted_average(x, 'balance', 'original_duration'),\n",
    "})).reset_index()\n"
   ]
  },
  {
   "cell_type": "code",
   "execution_count": 34,
   "metadata": {},
   "outputs": [
    {
     "data": {
      "text/html": [
       "<div>\n",
       "<style scoped>\n",
       "    .dataframe tbody tr th:only-of-type {\n",
       "        vertical-align: middle;\n",
       "    }\n",
       "\n",
       "    .dataframe tbody tr th {\n",
       "        vertical-align: top;\n",
       "    }\n",
       "\n",
       "    .dataframe thead th {\n",
       "        text-align: right;\n",
       "    }\n",
       "</style>\n",
       "<table border=\"1\" class=\"dataframe\">\n",
       "  <thead>\n",
       "    <tr style=\"text-align: right;\">\n",
       "      <th></th>\n",
       "      <th>level</th>\n",
       "      <th>number_of_syllables</th>\n",
       "      <th>number_of_pauses</th>\n",
       "      <th>rate_of_speech</th>\n",
       "      <th>articulation_rate</th>\n",
       "      <th>balance</th>\n",
       "    </tr>\n",
       "  </thead>\n",
       "  <tbody>\n",
       "    <tr>\n",
       "      <th>0</th>\n",
       "      <td>L1</td>\n",
       "      <td>132.785917</td>\n",
       "      <td>15.768171</td>\n",
       "      <td>3.028884</td>\n",
       "      <td>4.059845</td>\n",
       "      <td>0.746404</td>\n",
       "    </tr>\n",
       "    <tr>\n",
       "      <th>1</th>\n",
       "      <td>L2</td>\n",
       "      <td>166.489364</td>\n",
       "      <td>10.813541</td>\n",
       "      <td>3.612375</td>\n",
       "      <td>4.462819</td>\n",
       "      <td>0.838346</td>\n",
       "    </tr>\n",
       "    <tr>\n",
       "      <th>2</th>\n",
       "      <td>L3</td>\n",
       "      <td>185.701188</td>\n",
       "      <td>12.102815</td>\n",
       "      <td>3.985526</td>\n",
       "      <td>4.596127</td>\n",
       "      <td>0.847225</td>\n",
       "    </tr>\n",
       "    <tr>\n",
       "      <th>3</th>\n",
       "      <td>L4</td>\n",
       "      <td>224.686852</td>\n",
       "      <td>10.832035</td>\n",
       "      <td>4.183440</td>\n",
       "      <td>4.669819</td>\n",
       "      <td>0.899430</td>\n",
       "    </tr>\n",
       "    <tr>\n",
       "      <th>4</th>\n",
       "      <td>L5</td>\n",
       "      <td>246.823248</td>\n",
       "      <td>6.816915</td>\n",
       "      <td>4.653929</td>\n",
       "      <td>4.897032</td>\n",
       "      <td>0.936650</td>\n",
       "    </tr>\n",
       "  </tbody>\n",
       "</table>\n",
       "</div>"
      ],
      "text/plain": [
       "  level  number_of_syllables  number_of_pauses  rate_of_speech  \\\n",
       "0    L1           132.785917         15.768171        3.028884   \n",
       "1    L2           166.489364         10.813541        3.612375   \n",
       "2    L3           185.701188         12.102815        3.985526   \n",
       "3    L4           224.686852         10.832035        4.183440   \n",
       "4    L5           246.823248          6.816915        4.653929   \n",
       "\n",
       "   articulation_rate   balance  \n",
       "0           4.059845  0.746404  \n",
       "1           4.462819  0.838346  \n",
       "2           4.596127  0.847225  \n",
       "3           4.669819  0.899430  \n",
       "4           4.897032  0.936650  "
      ]
     },
     "execution_count": 34,
     "metadata": {},
     "output_type": "execute_result"
    }
   ],
   "source": [
    "weighted"
   ]
  },
  {
   "cell_type": "code",
   "execution_count": 48,
   "metadata": {},
   "outputs": [
    {
     "name": "stderr",
     "output_type": "stream",
     "text": [
      "C:\\Users\\User\\AppData\\Local\\Temp\\ipykernel_1216\\1387368456.py:1: DeprecationWarning: DataFrameGroupBy.apply operated on the grouping columns. This behavior is deprecated, and in a future version of pandas the grouping columns will be excluded from the operation. Either pass `include_groups=False` to exclude the groupings or explicitly select the grouping columns after groupby to silence this warning.\n",
      "  weighted = df_scaled.groupby('level').apply(lambda x: pd.Series({\n"
     ]
    }
   ],
   "source": [
    "weighted = df_scaled.groupby('level').apply(lambda x: pd.Series({\n",
    "    'number_of_syllables': weighted_average(x, 'number_of_syllables', 'original_duration'),\n",
    "    'number_of_pauses': weighted_average(x, 'number_of_pauses', 'original_duration'),\n",
    "    'rate_of_speech': weighted_average(x, 'rate_of_speech', 'original_duration'),\n",
    "    'articulation_rate': weighted_average(x, 'articulation_rate', 'original_duration'),\n",
    "    'balance': weighted_average(x, 'balance', 'original_duration'),\n",
    "    'score': weighted_average(x, 'score', 'original_duration')\n",
    "})).reset_index()"
   ]
  },
  {
   "cell_type": "code",
   "execution_count": 49,
   "metadata": {},
   "outputs": [
    {
     "data": {
      "text/html": [
       "<div>\n",
       "<style scoped>\n",
       "    .dataframe tbody tr th:only-of-type {\n",
       "        vertical-align: middle;\n",
       "    }\n",
       "\n",
       "    .dataframe tbody tr th {\n",
       "        vertical-align: top;\n",
       "    }\n",
       "\n",
       "    .dataframe thead th {\n",
       "        text-align: right;\n",
       "    }\n",
       "</style>\n",
       "<table border=\"1\" class=\"dataframe\">\n",
       "  <thead>\n",
       "    <tr style=\"text-align: right;\">\n",
       "      <th></th>\n",
       "      <th>level</th>\n",
       "      <th>number_of_syllables</th>\n",
       "      <th>number_of_pauses</th>\n",
       "      <th>rate_of_speech</th>\n",
       "      <th>articulation_rate</th>\n",
       "      <th>balance</th>\n",
       "      <th>score</th>\n",
       "    </tr>\n",
       "  </thead>\n",
       "  <tbody>\n",
       "    <tr>\n",
       "      <th>0</th>\n",
       "      <td>L1</td>\n",
       "      <td>0.219504</td>\n",
       "      <td>0.579427</td>\n",
       "      <td>0.337369</td>\n",
       "      <td>0.361148</td>\n",
       "      <td>0.478705</td>\n",
       "      <td>0.260426</td>\n",
       "    </tr>\n",
       "    <tr>\n",
       "      <th>1</th>\n",
       "      <td>L2</td>\n",
       "      <td>0.297405</td>\n",
       "      <td>0.393547</td>\n",
       "      <td>0.524437</td>\n",
       "      <td>0.482856</td>\n",
       "      <td>0.673234</td>\n",
       "      <td>0.762543</td>\n",
       "    </tr>\n",
       "    <tr>\n",
       "      <th>2</th>\n",
       "      <td>L3</td>\n",
       "      <td>0.328157</td>\n",
       "      <td>0.432652</td>\n",
       "      <td>0.657911</td>\n",
       "      <td>0.533038</td>\n",
       "      <td>0.689811</td>\n",
       "      <td>0.790196</td>\n",
       "    </tr>\n",
       "    <tr>\n",
       "      <th>3</th>\n",
       "      <td>L4</td>\n",
       "      <td>0.411562</td>\n",
       "      <td>0.382026</td>\n",
       "      <td>0.727295</td>\n",
       "      <td>0.558513</td>\n",
       "      <td>0.798553</td>\n",
       "      <td>0.975040</td>\n",
       "    </tr>\n",
       "    <tr>\n",
       "      <th>4</th>\n",
       "      <td>L5</td>\n",
       "      <td>0.465268</td>\n",
       "      <td>0.238242</td>\n",
       "      <td>0.885134</td>\n",
       "      <td>0.632822</td>\n",
       "      <td>0.875651</td>\n",
       "      <td>1.270231</td>\n",
       "    </tr>\n",
       "  </tbody>\n",
       "</table>\n",
       "</div>"
      ],
      "text/plain": [
       "  level  number_of_syllables  number_of_pauses  rate_of_speech  \\\n",
       "0    L1             0.219504          0.579427        0.337369   \n",
       "1    L2             0.297405          0.393547        0.524437   \n",
       "2    L3             0.328157          0.432652        0.657911   \n",
       "3    L4             0.411562          0.382026        0.727295   \n",
       "4    L5             0.465268          0.238242        0.885134   \n",
       "\n",
       "   articulation_rate   balance     score  \n",
       "0           0.361148  0.478705  0.260426  \n",
       "1           0.482856  0.673234  0.762543  \n",
       "2           0.533038  0.689811  0.790196  \n",
       "3           0.558513  0.798553  0.975040  \n",
       "4           0.632822  0.875651  1.270231  "
      ]
     },
     "execution_count": 49,
     "metadata": {},
     "output_type": "execute_result"
    }
   ],
   "source": [
    "weighted"
   ]
  },
  {
   "cell_type": "code",
   "execution_count": null,
   "metadata": {},
   "outputs": [],
   "source": []
  },
  {
   "cell_type": "code",
   "execution_count": null,
   "metadata": {},
   "outputs": [],
   "source": []
  },
  {
   "cell_type": "code",
   "execution_count": null,
   "metadata": {},
   "outputs": [],
   "source": []
  },
  {
   "cell_type": "code",
   "execution_count": null,
   "metadata": {},
   "outputs": [],
   "source": []
  },
  {
   "cell_type": "code",
   "execution_count": 24,
   "metadata": {},
   "outputs": [
    {
     "data": {
      "image/png": "[encoded data removed]",
      "text/plain": [
       "<Figure size 1000x600 with 1 Axes>"
      ]
     },
     "metadata": {},
     "output_type": "display_data"
    },
    {
     "data": {
      "image/png": "[encoded data removed]",
      "text/plain": [
       "<Figure size 1000x600 with 1 Axes>"
      ]
     },
     "metadata": {},
     "output_type": "display_data"
    }
   ],
   "source": [
    "import pandas as pd\n",
    "import seaborn as sns\n",
    "import matplotlib.pyplot as plt\n",
    "\n",
    "# Set the style of seaborn\n",
    "sns.set(style=\"whitegrid\")\n",
    "\n",
    "# Create a box plot for 'time' by 'level'\n",
    "plt.figure(figsize=(10, 6))\n",
    "sns.boxplot(x='level', y='number_of_pauses', data=final_df)\n",
    "plt.title('Distribution of pauses by Level')\n",
    "plt.xlabel('Level')\n",
    "plt.ylabel('Time')\n",
    "plt.show()\n",
    "\n",
    "# Create a histogram for 'time' by 'level'\n",
    "plt.figure(figsize=(10, 6))\n",
    "sns.histplot(data=final_df, x='number_of_pauses', hue='level', multiple='stack', bins=10, kde=True)\n",
    "plt.title('Histogram of pauses by Level')\n",
    "plt.xlabel('Time')\n",
    "plt.ylabel('Frequency')\n",
    "plt.show()"
   ]
  },
  {
   "cell_type": "code",
   "execution_count": null,
   "metadata": {},
   "outputs": [
    {
     "data": {
      "image/png": "[encoded data removed]",
      "text/plain": [
       "<Figure size 1000x600 with 1 Axes>"
      ]
     },
     "metadata": {},
     "output_type": "display_data"
    }
   ],
   "source": [
    "plt.figure(figsize=(10, 6))\n",
    "sns.histplot(data = final_df[final_df['level'] == 'L2'], x='number_of_pauses', bins=10, kde=True)\n",
    "plt.title('Histogram of pauses')\n",
    "plt.xlabel('pauses')\n",
    "plt.ylabel('Frequency')\n",
    "plt.show()"
   ]
  },
  {
   "cell_type": "code",
   "execution_count": 49,
   "metadata": {},
   "outputs": [
    {
     "data": {
      "image/png": "[encoded data removed]",
      "text/plain": [
       "<Figure size 1000x600 with 1 Axes>"
      ]
     },
     "metadata": {},
     "output_type": "display_data"
    }
   ],
   "source": [
    "plt.figure(figsize=(10, 6))\n",
    "sns.histplot(data = final_df[final_df['level'] == 'L3'], x='number_of_pauses', bins=10, kde=True)\n",
    "plt.title('Histogram of pauses')\n",
    "plt.xlabel('Pauses')\n",
    "plt.ylabel('Frequency')\n",
    "plt.show()"
   ]
  },
  {
   "cell_type": "code",
   "execution_count": 50,
   "metadata": {},
   "outputs": [
    {
     "data": {
      "image/png": "[encoded data removed]",
      "text/plain": [
       "<Figure size 1000x600 with 1 Axes>"
      ]
     },
     "metadata": {},
     "output_type": "display_data"
    }
   ],
   "source": [
    "plt.figure(figsize=(10, 6))\n",
    "sns.histplot(data = final_df[final_df['level'] == 'L4'], x='number_of_pauses', bins=10, kde=True)\n",
    "plt.title('Histogram of pauses')\n",
    "plt.xlabel('Pauses')\n",
    "plt.ylabel('Frequency')\n",
    "plt.show()"
   ]
  },
  {
   "cell_type": "code",
   "execution_count": null,
   "metadata": {},
   "outputs": [],
   "source": []
  },
  {
   "cell_type": "code",
   "execution_count": null,
   "metadata": {},
   "outputs": [],
   "source": []
  },
  {
   "cell_type": "code",
   "execution_count": null,
   "metadata": {},
   "outputs": [],
   "source": []
  },
  {
   "cell_type": "code",
   "execution_count": null,
   "metadata": {},
   "outputs": [],
   "source": []
  }
 ],
 "metadata": {
  "kernelspec": {
   "display_name": "base",
   "language": "python",
   "name": "python3"
  },
  "language_info": {
   "codemirror_mode": {
    "name": "ipython",
    "version": 3
   },
   "file_extension": ".py",
   "mimetype": "text/x-python",
   "name": "python",
   "nbconvert_exporter": "python",
   "pygments_lexer": "ipython3",
   "version": "3.12.3"
  }
 },
 "nbformat": 4,
 "nbformat_minor": 2
}
